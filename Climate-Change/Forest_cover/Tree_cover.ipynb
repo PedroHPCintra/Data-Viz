{
 "cells": [
  {
   "cell_type": "code",
   "execution_count": 2,
   "id": "8399644d-b428-4505-b498-fad5276adc39",
   "metadata": {},
   "outputs": [
    {
     "ename": "ModuleNotFoundError",
     "evalue": "No module named 'osgeo'",
     "output_type": "error",
     "traceback": [
      "\u001b[0;31m---------------------------------------------------------------------------\u001b[0m",
      "\u001b[0;31mModuleNotFoundError\u001b[0m                       Traceback (most recent call last)",
      "\u001b[0;32m<ipython-input-2-15cb6438387c>\u001b[0m in \u001b[0;36m<module>\u001b[0;34m\u001b[0m\n\u001b[0;32m----> 1\u001b[0;31m \u001b[0;32mfrom\u001b[0m \u001b[0mosgeo\u001b[0m \u001b[0;32mimport\u001b[0m \u001b[0mgdal\u001b[0m\u001b[0;34m\u001b[0m\u001b[0;34m\u001b[0m\u001b[0m\n\u001b[0m\u001b[1;32m      2\u001b[0m \u001b[0;32mimport\u001b[0m \u001b[0mmatplotlib\u001b[0m\u001b[0;34m.\u001b[0m\u001b[0mpyplot\u001b[0m \u001b[0;32mas\u001b[0m \u001b[0mplt\u001b[0m\u001b[0;34m\u001b[0m\u001b[0;34m\u001b[0m\u001b[0m\n\u001b[1;32m      3\u001b[0m \u001b[0;34m\u001b[0m\u001b[0m\n\u001b[1;32m      4\u001b[0m \u001b[0mdataset\u001b[0m \u001b[0;34m=\u001b[0m \u001b[0mgdal\u001b[0m\u001b[0;34m.\u001b[0m\u001b[0mOpen\u001b[0m\u001b[0;34m(\u001b[0m\u001b[0;34m'Hansen_GFC-2023-v1.11_treecover2000_00N_070W.tif'\u001b[0m\u001b[0;34m)\u001b[0m\u001b[0;34m\u001b[0m\u001b[0;34m\u001b[0m\u001b[0m\n",
      "\u001b[0;31mModuleNotFoundError\u001b[0m: No module named 'osgeo'"
     ]
    }
   ],
   "source": [
    "from osgeo import gdal\n",
    "import matplotlib.pyplot as plt\n",
    "\n",
    "dataset = gdal.Open('Hansen_GFC-2023-v1.11_treecover2000_00N_070W.tif')"
   ]
  },
  {
   "cell_type": "code",
   "execution_count": null,
   "id": "b4980d8e-313f-4bfc-8bf3-d37043d37218",
   "metadata": {},
   "outputs": [],
   "source": [
    "print(dataset.RasterCount)"
   ]
  },
  {
   "cell_type": "code",
   "execution_count": null,
   "id": "70cfbc16-6458-44ef-b0a6-0365f245c435",
   "metadata": {},
   "outputs": [],
   "source": [
    "# since there are 3 bands \n",
    "# we store in 3 different variables \n",
    "band1 = dataset.GetRasterBand(1) # Red channel \n",
    "band2 = dataset.GetRasterBand(2) # Green channel \n",
    "band3 = dataset.GetRasterBand(3) # Blue channel"
   ]
  },
  {
   "cell_type": "code",
   "execution_count": null,
   "id": "c513febe-8cb9-4e6c-b2d5-9126e118c1cf",
   "metadata": {},
   "outputs": [],
   "source": [
    "b1 = band1.ReadAsArray()\n",
    "b2 = band2.ReadAsArray()\n",
    "b3 = band3.ReadAsArray()"
   ]
  },
  {
   "cell_type": "code",
   "execution_count": null,
   "id": "dc5b4dc3-c586-4004-932c-14eaa1094b35",
   "metadata": {},
   "outputs": [],
   "source": [
    "img = np.dstack((b1, b2, b3))\n",
    "f = plt.figure()\n",
    "plt.imshow(img)\n",
    "# plt.savefig('Tiff.png')\n",
    "plt.show()"
   ]
  }
 ],
 "metadata": {
  "kernelspec": {
   "display_name": "Python 3",
   "language": "python",
   "name": "python3"
  },
  "language_info": {
   "codemirror_mode": {
    "name": "ipython",
    "version": 3
   },
   "file_extension": ".py",
   "mimetype": "text/x-python",
   "name": "python",
   "nbconvert_exporter": "python",
   "pygments_lexer": "ipython3",
   "version": "3.7.11"
  }
 },
 "nbformat": 4,
 "nbformat_minor": 5
}
